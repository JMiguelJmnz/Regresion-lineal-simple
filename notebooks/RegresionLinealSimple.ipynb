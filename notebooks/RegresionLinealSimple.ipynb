{
 "cells": [
  {
   "cell_type": "code",
   "execution_count": 1,
   "id": "7b69b5bb-4e5c-417d-97bc-d366f58df8e2",
   "metadata": {},
   "outputs": [],
   "source": [
    "import matplotlib.pyplot as plt\n",
    "import pandas as pd\n",
    "import pylab as pl\n",
    "import numpy as np\n",
    "import os\n",
    "os.chdir(\"E:/EBAC/Material/M19\")"
   ]
  },
  {
   "cell_type": "code",
   "execution_count": 2,
   "id": "415d24ee-af7c-48e7-b197-4a610afb3531",
   "metadata": {},
   "outputs": [
    {
     "data": {
      "text/html": [
       "<div>\n",
       "<style scoped>\n",
       "    .dataframe tbody tr th:only-of-type {\n",
       "        vertical-align: middle;\n",
       "    }\n",
       "\n",
       "    .dataframe tbody tr th {\n",
       "        vertical-align: top;\n",
       "    }\n",
       "\n",
       "    .dataframe thead th {\n",
       "        text-align: right;\n",
       "    }\n",
       "</style>\n",
       "<table border=\"1\" class=\"dataframe\">\n",
       "  <thead>\n",
       "    <tr style=\"text-align: right;\">\n",
       "      <th></th>\n",
       "      <th>Periodo</th>\n",
       "      <th>GDP</th>\n",
       "    </tr>\n",
       "  </thead>\n",
       "  <tbody>\n",
       "    <tr>\n",
       "      <th>0</th>\n",
       "      <td>1960</td>\n",
       "      <td>1.304000e+10</td>\n",
       "    </tr>\n",
       "    <tr>\n",
       "      <th>1</th>\n",
       "      <td>1961</td>\n",
       "      <td>1.416000e+10</td>\n",
       "    </tr>\n",
       "    <tr>\n",
       "      <th>2</th>\n",
       "      <td>1962</td>\n",
       "      <td>1.520000e+10</td>\n",
       "    </tr>\n",
       "    <tr>\n",
       "      <th>3</th>\n",
       "      <td>1963</td>\n",
       "      <td>1.696000e+10</td>\n",
       "    </tr>\n",
       "    <tr>\n",
       "      <th>4</th>\n",
       "      <td>1964</td>\n",
       "      <td>2.008000e+10</td>\n",
       "    </tr>\n",
       "  </tbody>\n",
       "</table>\n",
       "</div>"
      ],
      "text/plain": [
       "   Periodo           GDP\n",
       "0     1960  1.304000e+10\n",
       "1     1961  1.416000e+10\n",
       "2     1962  1.520000e+10\n",
       "3     1963  1.696000e+10\n",
       "4     1964  2.008000e+10"
      ]
     },
     "execution_count": 2,
     "metadata": {},
     "output_type": "execute_result"
    }
   ],
   "source": [
    "df = pd.read_excel(\"Mexico GDP.xlsx\")\n",
    "df.head()"
   ]
  },
  {
   "cell_type": "code",
   "execution_count": 3,
   "id": "6119c4df-1713-4a67-9832-4688be968183",
   "metadata": {},
   "outputs": [
    {
     "data": {
      "text/html": [
       "<div>\n",
       "<style scoped>\n",
       "    .dataframe tbody tr th:only-of-type {\n",
       "        vertical-align: middle;\n",
       "    }\n",
       "\n",
       "    .dataframe tbody tr th {\n",
       "        vertical-align: top;\n",
       "    }\n",
       "\n",
       "    .dataframe thead th {\n",
       "        text-align: right;\n",
       "    }\n",
       "</style>\n",
       "<table border=\"1\" class=\"dataframe\">\n",
       "  <thead>\n",
       "    <tr style=\"text-align: right;\">\n",
       "      <th></th>\n",
       "      <th>Periodo</th>\n",
       "      <th>GDP</th>\n",
       "    </tr>\n",
       "  </thead>\n",
       "  <tbody>\n",
       "    <tr>\n",
       "      <th>count</th>\n",
       "      <td>62.000000</td>\n",
       "      <td>6.200000e+01</td>\n",
       "    </tr>\n",
       "    <tr>\n",
       "      <th>mean</th>\n",
       "      <td>1990.500000</td>\n",
       "      <td>4.866155e+11</td>\n",
       "    </tr>\n",
       "    <tr>\n",
       "      <th>std</th>\n",
       "      <td>18.041619</td>\n",
       "      <td>4.544804e+11</td>\n",
       "    </tr>\n",
       "    <tr>\n",
       "      <th>min</th>\n",
       "      <td>1960.000000</td>\n",
       "      <td>1.304000e+10</td>\n",
       "    </tr>\n",
       "    <tr>\n",
       "      <th>25%</th>\n",
       "      <td>1975.250000</td>\n",
       "      <td>8.336062e+10</td>\n",
       "    </tr>\n",
       "    <tr>\n",
       "      <th>50%</th>\n",
       "      <td>1990.500000</td>\n",
       "      <td>2.885511e+11</td>\n",
       "    </tr>\n",
       "    <tr>\n",
       "      <th>75%</th>\n",
       "      <td>2005.750000</td>\n",
       "      <td>8.944031e+11</td>\n",
       "    </tr>\n",
       "    <tr>\n",
       "      <th>max</th>\n",
       "      <td>2021.000000</td>\n",
       "      <td>1.315351e+12</td>\n",
       "    </tr>\n",
       "  </tbody>\n",
       "</table>\n",
       "</div>"
      ],
      "text/plain": [
       "           Periodo           GDP\n",
       "count    62.000000  6.200000e+01\n",
       "mean   1990.500000  4.866155e+11\n",
       "std      18.041619  4.544804e+11\n",
       "min    1960.000000  1.304000e+10\n",
       "25%    1975.250000  8.336062e+10\n",
       "50%    1990.500000  2.885511e+11\n",
       "75%    2005.750000  8.944031e+11\n",
       "max    2021.000000  1.315351e+12"
      ]
     },
     "execution_count": 3,
     "metadata": {},
     "output_type": "execute_result"
    }
   ],
   "source": [
    "# Exploracion de datos\n",
    "df.describe()"
   ]
  },
  {
   "cell_type": "code",
   "execution_count": 4,
   "id": "4790fafb-7a8d-459a-83bd-36d4886f3909",
   "metadata": {},
   "outputs": [
    {
     "data": {
      "text/plain": [
       "<matplotlib.collections.PathCollection at 0x1f4c3d2df70>"
      ]
     },
     "execution_count": 4,
     "metadata": {},
     "output_type": "execute_result"
    },
    {
     "data": {
      "image/png": "[encoded data removed]",
      "text/plain": [
       "<Figure size 640x480 with 1 Axes>"
      ]
     },
     "metadata": {},
     "output_type": "display_data"
    }
   ],
   "source": [
    "plt.scatter(df.Periodo, df.GDP)"
   ]
  },
  {
   "cell_type": "code",
   "execution_count": 5,
   "id": "d118cac7-90d0-4271-a6ba-58975adf6962",
   "metadata": {},
   "outputs": [],
   "source": [
    "#Definir modelo logistico al que sera ajustada la regresion de minimos cuadrados\n",
    "\n",
    "def minimos2(x, B1, B2):\n",
    "    y = 1 / (1 + np.exp(-B1 * (x - B2)))\n",
    "    return y"
   ]
  },
  {
   "cell_type": "code",
   "execution_count": 6,
   "id": "24dbd90b-0775-43c9-975b-5404667b05ee",
   "metadata": {},
   "outputs": [],
   "source": [
    "msk = np.random.rand(len(df)) <= 0.80\n",
    "train = df[msk]\n",
    "test = df[~msk]"
   ]
  },
  {
   "cell_type": "code",
   "execution_count": 7,
   "id": "9a011a6f-b416-49b2-91f1-4df23d849ef2",
   "metadata": {},
   "outputs": [
    {
     "name": "stdout",
     "output_type": "stream",
     "text": [
      "B1 =  1.0 B2 =  1.0\n"
     ]
    },
    {
     "name": "stderr",
     "output_type": "stream",
     "text": [
      "C:\\Users\\BlewOs\\AppData\\Local\\Temp\\ipykernel_33552\\345059351.py:6: OptimizeWarning: Covariance of the parameters could not be estimated\n",
      "  popt, pcov = curve_fit(minimos2, train_x, train_y)\n"
     ]
    }
   ],
   "source": [
    "from scipy.optimize import curve_fit\n",
    "\n",
    "train_x = np.asanyarray(train['Periodo'])\n",
    "train_y = np.asanyarray(train['GDP'])\n",
    "\n",
    "popt, pcov = curve_fit(minimos2, train_x, train_y)\n",
    "\n",
    "print(\"B1 = \", popt[0], \"B2 = \", popt[1])"
   ]
  },
  {
   "cell_type": "code",
   "execution_count": 8,
   "id": "66ce328a-0f07-49fa-b86e-082d5e1b805b",
   "metadata": {},
   "outputs": [],
   "source": [
    "# Esta advertencia y valores nos indican que se encontro el mejor ajuste para la curva, lo que sabemos que no es real.\n",
    "# Una causa puede ser la escala de la informacion por la magnitud de los valores, por lo cual normalizar puede solucionar este caso."
   ]
  },
  {
   "cell_type": "code",
   "execution_count": 29,
   "id": "0af2aab7-458b-4c3f-a572-b4b20e3fa543",
   "metadata": {},
   "outputs": [
    {
     "data": {
      "text/html": [
       "<div>\n",
       "<style scoped>\n",
       "    .dataframe tbody tr th:only-of-type {\n",
       "        vertical-align: middle;\n",
       "    }\n",
       "\n",
       "    .dataframe tbody tr th {\n",
       "        vertical-align: top;\n",
       "    }\n",
       "\n",
       "    .dataframe thead th {\n",
       "        text-align: right;\n",
       "    }\n",
       "</style>\n",
       "<table border=\"1\" class=\"dataframe\">\n",
       "  <thead>\n",
       "    <tr style=\"text-align: right;\">\n",
       "      <th></th>\n",
       "      <th>Periodo</th>\n",
       "      <th>GDP</th>\n",
       "      <th>GDP_normalized</th>\n",
       "      <th>Periodo_normalized</th>\n",
       "    </tr>\n",
       "  </thead>\n",
       "  <tbody>\n",
       "    <tr>\n",
       "      <th>0</th>\n",
       "      <td>1960</td>\n",
       "      <td>1.304000e+10</td>\n",
       "      <td>0.000000</td>\n",
       "      <td>0.000000</td>\n",
       "    </tr>\n",
       "    <tr>\n",
       "      <th>1</th>\n",
       "      <td>1961</td>\n",
       "      <td>1.416000e+10</td>\n",
       "      <td>0.000860</td>\n",
       "      <td>0.016393</td>\n",
       "    </tr>\n",
       "    <tr>\n",
       "      <th>2</th>\n",
       "      <td>1962</td>\n",
       "      <td>1.520000e+10</td>\n",
       "      <td>0.001659</td>\n",
       "      <td>0.032787</td>\n",
       "    </tr>\n",
       "    <tr>\n",
       "      <th>3</th>\n",
       "      <td>1963</td>\n",
       "      <td>1.696000e+10</td>\n",
       "      <td>0.003010</td>\n",
       "      <td>0.049180</td>\n",
       "    </tr>\n",
       "    <tr>\n",
       "      <th>4</th>\n",
       "      <td>1964</td>\n",
       "      <td>2.008000e+10</td>\n",
       "      <td>0.005406</td>\n",
       "      <td>0.065574</td>\n",
       "    </tr>\n",
       "    <tr>\n",
       "      <th>5</th>\n",
       "      <td>1965</td>\n",
       "      <td>2.184000e+10</td>\n",
       "      <td>0.006757</td>\n",
       "      <td>0.081967</td>\n",
       "    </tr>\n",
       "    <tr>\n",
       "      <th>6</th>\n",
       "      <td>1966</td>\n",
       "      <td>2.432000e+10</td>\n",
       "      <td>0.008662</td>\n",
       "      <td>0.098361</td>\n",
       "    </tr>\n",
       "    <tr>\n",
       "      <th>7</th>\n",
       "      <td>1967</td>\n",
       "      <td>2.656000e+10</td>\n",
       "      <td>0.010382</td>\n",
       "      <td>0.114754</td>\n",
       "    </tr>\n",
       "    <tr>\n",
       "      <th>8</th>\n",
       "      <td>1968</td>\n",
       "      <td>2.936000e+10</td>\n",
       "      <td>0.012532</td>\n",
       "      <td>0.131148</td>\n",
       "    </tr>\n",
       "  </tbody>\n",
       "</table>\n",
       "</div>"
      ],
      "text/plain": [
       "   Periodo           GDP  GDP_normalized  Periodo_normalized\n",
       "0     1960  1.304000e+10        0.000000            0.000000\n",
       "1     1961  1.416000e+10        0.000860            0.016393\n",
       "2     1962  1.520000e+10        0.001659            0.032787\n",
       "3     1963  1.696000e+10        0.003010            0.049180\n",
       "4     1964  2.008000e+10        0.005406            0.065574\n",
       "5     1965  2.184000e+10        0.006757            0.081967\n",
       "6     1966  2.432000e+10        0.008662            0.098361\n",
       "7     1967  2.656000e+10        0.010382            0.114754\n",
       "8     1968  2.936000e+10        0.012532            0.131148"
      ]
     },
     "execution_count": 29,
     "metadata": {},
     "output_type": "execute_result"
    }
   ],
   "source": [
    "df['GDP_normalized'] = (df['GDP'] - df['GDP'].min()) / (df['GDP'].max() - df['GDP'].min())\n",
    "df['Periodo_normalized'] = (df['Periodo'] - df['Periodo'].min()) / (df['Periodo'].max() - df['Periodo'].min())\n",
    "df.head(9)\n"
   ]
  },
  {
   "cell_type": "code",
   "execution_count": 31,
   "id": "57958c43-3c08-490d-b258-64b5d23662d4",
   "metadata": {},
   "outputs": [
    {
     "data": {
      "image/png": "[encoded data removed]",
      "text/plain": [
       "<Figure size 640x480 with 1 Axes>"
      ]
     },
     "metadata": {},
     "output_type": "display_data"
    }
   ],
   "source": [
    "plt.scatter(df['Periodo'], df['GDP_normalized'])\n",
    "plt.xlabel('Periodo')\n",
    "plt.ylabel('GDP Normalized')\n",
    "plt.show()"
   ]
  },
  {
   "cell_type": "code",
   "execution_count": 32,
   "id": "28b7a258-3b8d-43cb-859c-5e96f2773987",
   "metadata": {},
   "outputs": [],
   "source": [
    "msk = np.random.rand(len(df)) <= 0.80\n",
    "train = df[msk]\n",
    "test = df[~msk]"
   ]
  },
  {
   "cell_type": "code",
   "execution_count": 35,
   "id": "354a4684-715d-4f14-bf41-a726045c6260",
   "metadata": {},
   "outputs": [
    {
     "name": "stdout",
     "output_type": "stream",
     "text": [
      "B1 =  8.692650316830358 B2 =  0.6515020733957221\n"
     ]
    }
   ],
   "source": [
    "Tx = np.asanyarray(train['Periodo_normalized'])\n",
    "Ty = np.asanyarray(train['GDP_normalized'])\n",
    "test_x = np.asanyarray(test['Periodo_normalized'])\n",
    "test_y = np.asanyarray(test['GDP_normalized'])\n",
    "\n",
    "popt, pcov = curve_fit(minimos2, Tx, Ty)\n",
    "\n",
    "print(\"B1 = \", popt[0], \"B2 = \", popt[1])"
   ]
  },
  {
   "cell_type": "code",
   "execution_count": 38,
   "id": "2c33870d-c201-4b76-b096-b39cc14a4e87",
   "metadata": {},
   "outputs": [
    {
     "data": {
      "image/png": "[encoded data removed]",
      "text/plain": [
       "<Figure size 640x480 with 1 Axes>"
      ]
     },
     "metadata": {},
     "output_type": "display_data"
    }
   ],
   "source": [
    "plt.plot(Tx,Ty, 'bo')\n",
    "plt.plot(test_x,test_y, 'r')\n",
    "plt.xlabel('Periodo')\n",
    "plt.ylabel('GDP_normalized')\n",
    "plt.show()"
   ]
  },
  {
   "cell_type": "code",
   "execution_count": 39,
   "id": "a2470e93-22fe-4bf9-83de-4177abcaae4f",
   "metadata": {},
   "outputs": [],
   "source": [
    "train_y_hat = minimos2(Tx_scaled, *popt)\n",
    "test_y_hat = minimos2(test_x_scaled, *popt)"
   ]
  },
  {
   "cell_type": "code",
   "execution_count": 41,
   "id": "820d2e5d-057f-4fdc-ada7-56a50d8919c4",
   "metadata": {},
   "outputs": [
    {
     "name": "stdout",
     "output_type": "stream",
     "text": [
      "Evaluacion de entrenamiento\n",
      "Mean absolute error: 0.04\n",
      "Residual sum of squares (MSE): 0.00\n",
      "R2-score:  1\n",
      "Evaluacion de prueba\n",
      "Mean absolute error: 0.04\n",
      "Residual sum of squares (MSE): 0.00\n",
      "R2-score:  1\n"
     ]
    }
   ],
   "source": [
    "from sklearn.metrics import r2_score\n",
    "# Evaluacion de los errores\n",
    "\n",
    "print(\"Evaluacion de entrenamiento\")\n",
    "print(\"Mean absolute error: %.2f\" % np.mean(np.absolute(train_y_hat - Ty)))\n",
    "print(\"Residual sum of squares (MSE): %.2f\" % np.mean((train_y_hat - Ty) ** 2))\n",
    "print(\"R2-score: %2.f\" % r2_score(train_y_hat , Ty))\n",
    "\n",
    "print(\"Evaluacion de prueba\")\n",
    "print(\"Mean absolute error: %.2f\" % np.mean(np.absolute(test_y_hat - test_y)))\n",
    "print(\"Residual sum of squares (MSE): %.2f\" % np.mean((test_y_hat - test_y) ** 2))\n",
    "print(\"R2-score: %2.f\" % r2_score(test_y_hat , test_y))"
   ]
  },
  {
   "cell_type": "code",
   "execution_count": 44,
   "id": "9688b8ec-e085-43d2-b841-361fb4b1eb42",
   "metadata": {},
   "outputs": [
    {
     "name": "stdout",
     "output_type": "stream",
     "text": [
      "Training MSE: 0.002459475570434088\n",
      "Testing MSE: 0.003088406585088445\n"
     ]
    }
   ],
   "source": [
    "#Utilizacion de metodo alterno debido a la precision\n",
    "from sklearn.metrics import mean_squared_error\n",
    "\n",
    "train_mse = mean_squared_error(Ty, train_y_hat)\n",
    "test_mse = mean_squared_error(test_y, test_y_hat)\n",
    "\n",
    "print(\"Training MSE:\", train_mse)\n",
    "print(\"Testing MSE:\", test_mse)"
   ]
  },
  {
   "cell_type": "code",
   "execution_count": 46,
   "id": "18e793c0-b78c-4fea-bdde-72987ac1dfda",
   "metadata": {},
   "outputs": [
    {
     "name": "stdout",
     "output_type": "stream",
     "text": [
      "Training R-squared: 0.980402973716304\n",
      "Testing R-squared: 0.9675282417108295\n"
     ]
    }
   ],
   "source": [
    "# Calculo de R cuadrada con metodo alterno para verificar precision\n",
    "from sklearn.metrics import r2_score\n",
    "\n",
    "train_r2 = r2_score(Ty, train_y_hat)\n",
    "test_r2 = r2_score(test_y, test_y_hat)\n",
    "\n",
    "print(\"Training R-squared:\", train_r2)\n",
    "print(\"Testing R-squared:\", test_r2)"
   ]
  },
  {
   "cell_type": "markdown",
   "id": "9b7bac15-3fe9-41b1-a176-73e736fdc7e9",
   "metadata": {},
   "source": [
    "Con estos nuevos resultados, la grafica y sin advertencias podemos decir que con un bajo MSE y un alto R2 es un buen ajuste\n",
    "Anteriormente con el rango de los periodos siendo numeros grandes y cercanos entre si y los datos del GDP teniendo una diferencia y magnitud tan grandes ocacionaban problemas en la interpretacion y procesamiento, pero al normalizar o escalar estos valores obtenemos informacion digerible lo que nos permite ajustarlo al model y hacer predicciones."
   ]
  },
  {
   "cell_type": "code",
   "execution_count": 48,
   "id": "1886f814-2252-44b4-913e-6e0cb003835f",
   "metadata": {},
   "outputs": [
    {
     "name": "stdout",
     "output_type": "stream",
     "text": [
      "Prediccion del GDP para el 2022: 1262948764094.6892\n"
     ]
    }
   ],
   "source": [
    "# Prediccion para el año 2022, primero convertimos el año a la escala utilizada para poderlo procesar\n",
    "PeriodoEscalado = (2022 - df['Periodo'].min()) / (df['Periodo'].max() - df['Periodo'].min())\n",
    "NuevaY = minimos2(PeriodoEscalado, *popt)\n",
    "\n",
    "# Convertir el resultado a la escala real\n",
    "PrediccionY = NuevaY * (df['GDP'].max() - df['GDP'].min()) + df['GDP'].min()\n",
    "print(\"Prediccion del GDP para el 2022:\", PrediccionY)\n"
   ]
  },
  {
   "cell_type": "code",
   "execution_count": null,
   "id": "84944ab5-3e63-419b-93e3-ea5983741a00",
   "metadata": {},
   "outputs": [],
   "source": []
  }
 ],
 "metadata": {
  "kernelspec": {
   "display_name": "Python 3 (ipykernel)",
   "language": "python",
   "name": "python3"
  },
  "language_info": {
   "codemirror_mode": {
    "name": "ipython",
    "version": 3
   },
   "file_extension": ".py",
   "mimetype": "text/x-python",
   "name": "python",
   "nbconvert_exporter": "python",
   "pygments_lexer": "ipython3",
   "version": "3.12.7"
  }
 },
 "nbformat": 4,
 "nbformat_minor": 5
}
